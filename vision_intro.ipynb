{
 "cells": [
  {
   "cell_type": "code",
   "execution_count": 2,
   "metadata": {
    "collapsed": false
   },
   "outputs": [],
   "source": [
    "# Just screwing around here, trying to figure out what image\n",
    "# processing I can do.\n",
    "import numpy as np, mahotas as mh, time\n",
    "import matplotlib.pyplot as plt\n",
    "\n",
    "image = mh.imread('static/test.png')\n"
   ]
  },
  {
   "cell_type": "code",
   "execution_count": 3,
   "metadata": {
    "collapsed": false
   },
   "outputs": [],
   "source": [
    "plt.imshow(image)\n",
    "plt.show(block=False)"
   ]
  },
  {
   "cell_type": "code",
   "execution_count": 4,
   "metadata": {
    "collapsed": false
   },
   "outputs": [
    {
     "name": "stdout",
     "output_type": "stream",
     "text": [
      "(1280, 1280, 3)\n",
      "uint8\n",
      "254\n",
      "0\n",
      "(1280, 1280)\n"
     ]
    }
   ],
   "source": [
    "print image.shape\n",
    "print image.dtype\n",
    "print image.max()\n",
    "print image.min()\n",
    "# print image[0, 0] # (gives one point, [108, 100, 93] - RGB values)\n",
    "# print image[0, 0:3]\n",
    "# http://stackoverflow.com/questions/12201577/convert-rgb-image-to-grayscale-in-python\n",
    "# multiply each point in the image by this vector of 3 to get grayscale.\n",
    "grayimage = np.dot(image, [0.299, 0.587, 0.144])\n",
    "grayimage = np.vectorize(round, otypes=[np.uint8])(grayimage)\n",
    "print grayimage.shape\n"
   ]
  },
  {
   "cell_type": "code",
   "execution_count": 5,
   "metadata": {
    "collapsed": true
   },
   "outputs": [],
   "source": [
    "plt.imshow(grayimage)\n",
    "plt.draw()\n",
    "# will look like colors, b/c it's a heatmap by default for grayscale."
   ]
  },
  {
   "cell_type": "code",
   "execution_count": 6,
   "metadata": {
    "collapsed": false
   },
   "outputs": [],
   "source": [
    "threshold = mh.thresholding.otsu(grayimage)\n",
    "plt.imshow(grayimage > threshold)\n",
    "plt.draw()"
   ]
  },
  {
   "cell_type": "code",
   "execution_count": 7,
   "metadata": {
    "collapsed": false
   },
   "outputs": [],
   "source": [
    "blurred_image = mh.gaussian_filter(image, 10) > threshold\n",
    "plt.imshow(blurred_image)\n",
    "plt.draw()"
   ]
  },
  {
   "cell_type": "code",
   "execution_count": 8,
   "metadata": {
    "collapsed": false
   },
   "outputs": [],
   "source": [
    "plt.imshow(mh.gaussian_filter(grayimage, 10) > threshold)\n",
    "plt.draw()"
   ]
  },
  {
   "cell_type": "code",
   "execution_count": 9,
   "metadata": {
    "collapsed": false
   },
   "outputs": [
    {
     "name": "stdout",
     "output_type": "stream",
     "text": [
      "51\n"
     ]
    }
   ],
   "source": [
    "labeled, n_building = mh.label(blurred_image)\n",
    "# this doesn't make a lot of sense, b/c it's not like our buildings are\n",
    "# so nicely segmented. it labels all contiguous regions, pretty much.\n",
    "plt.imshow(labeled)\n",
    "plt.draw()\n",
    "print n_building"
   ]
  },
  {
   "cell_type": "code",
   "execution_count": null,
   "metadata": {
    "collapsed": true
   },
   "outputs": [],
   "source": []
  },
  {
   "cell_type": "code",
   "execution_count": 10,
   "metadata": {
    "collapsed": true
   },
   "outputs": [],
   "source": [
    "plt.close()"
   ]
  },
  {
   "cell_type": "code",
   "execution_count": null,
   "metadata": {
    "collapsed": true
   },
   "outputs": [],
   "source": []
  }
 ],
 "metadata": {
  "kernelspec": {
   "display_name": "Python 2",
   "language": "python",
   "name": "python2"
  },
  "language_info": {
   "codemirror_mode": {
    "name": "ipython",
    "version": 2
   },
   "file_extension": ".py",
   "mimetype": "text/x-python",
   "name": "python",
   "nbconvert_exporter": "python",
   "pygments_lexer": "ipython2",
   "version": "2.7.9"
  }
 },
 "nbformat": 4,
 "nbformat_minor": 0
}
